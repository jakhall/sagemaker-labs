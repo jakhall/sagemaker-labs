{
 "cells": [
  {
   "cell_type": "code",
   "execution_count": null,
   "id": "86487f9a-9e3a-4ed9-af11-42c58a525ac9",
   "metadata": {},
   "outputs": [],
   "source": [
    "import json\n",
    "import xmltodict\n",
    "import boto3\n",
    "\n",
    "\n",
    "#Input name of bucket containing data (sample_script.fdx)\n",
    "\n",
    "BUCKET_NAME = \"\"\n",
    "\n",
    "#Input name of endpoint hosting the BlazingText Model. \n",
    "ENDPOINT_NAME = \"\"\n",
    "\n",
    "s3_client = boto3.client('s3')\n",
    "sagemaker_client = boto3.client('sagemaker-runtime')"
   ]
  },
  {
   "cell_type": "code",
   "execution_count": null,
   "id": "e2a643c6-c042-45be-aa26-b1ea3ed16738",
   "metadata": {
    "tags": []
   },
   "outputs": [],
   "source": [
    "#Method to extract fdx scripts from s3, loads them as dict item. \n",
    "\n",
    "def read_script_from_s3(key: str, client=s3_client) -> dict:\n",
    "    response = client.get_object(Bucket=BUCKET_NAME, Key=key)\n",
    "    content = response['Body'].read().decode('utf-8')\n",
    "    return xmltodict.parse(content)\n",
    "\n",
    "#Method to send/receive requests to the active endpoint. \n",
    "\n",
    "def query_endpoint(text_input: str, client=sagemaker_client):\n",
    "    response = sagemaker_client.invoke_endpoint(EndpointName=ENDPOINT_NAME, Body=f'{{\"instances\\\": [\"{text_input}\"]}}')\n",
    "    return json.loads(response[\"Body\"].read().decode())"
   ]
  },
  {
   "cell_type": "code",
   "execution_count": null,
   "id": "76155e6c-7ae9-4e4f-9a8c-ececa528b7b2",
   "metadata": {},
   "outputs": [],
   "source": [
    "#Load the script, extract the text content.\n",
    "\n",
    "script = read_script_from_s3(\"data/sample_script.fdx\")\n",
    "script_content = script['FinalDraft']['Content']['Paragraph']"
   ]
  },
  {
   "cell_type": "code",
   "execution_count": null,
   "id": "d57d0b78-d6c3-44a9-b598-4675d2cb26de",
   "metadata": {
    "tags": []
   },
   "outputs": [],
   "source": [
    "#Test endpoint with a negative review.\n",
    "query_endpoint(\"The worst guitar strings, very bad, don't buy.\")"
   ]
  },
  {
   "cell_type": "code",
   "execution_count": null,
   "id": "c0f87203-7c6c-469a-bb3c-ff0f15345fec",
   "metadata": {
    "tags": []
   },
   "outputs": [],
   "source": [
    "#Test endpoint with a positive review.\n",
    "query_endpoint(\"This is a great keyboard, keys are high quality!\") "
   ]
  },
  {
   "cell_type": "code",
   "execution_count": null,
   "id": "4bc25be9-93f2-4672-bb74-f4af7983b5fc",
   "metadata": {
    "tags": []
   },
   "outputs": [],
   "source": [
    "#Test endpoint on a negative sentiment line from the script.\n",
    "print(script_content[379]['Text'])\n",
    "query_endpoint(script_content[379]['Text'])"
   ]
  },
  {
   "cell_type": "code",
   "execution_count": null,
   "id": "3364931c-65e0-4fc3-ae6d-eb26936daf5a",
   "metadata": {
    "tags": []
   },
   "outputs": [],
   "source": [
    "#Test endpoint on a positive sentiment line from the script.\n",
    "print(script_content[46]['Text'])\n",
    "query_endpoint(script_content[46]['Text'])"
   ]
  },
  {
   "cell_type": "code",
   "execution_count": null,
   "id": "5fa04691-a8ec-4154-aca9-6f0a99c799b5",
   "metadata": {
    "tags": []
   },
   "outputs": [],
   "source": [
    "#Find all lines from the script with the highest positive sentiment. \n",
    "\n",
    "for i in range(0, len(script_content)):\n",
    "    if 'Text' in script_content[i]:\n",
    "        result = query_endpoint(script_content[i]['Text'])\n",
    "        if result[0]['label'][0] == \"__label__5\":\n",
    "            print(i, \": \", script_content[i]['Text'])"
   ]
  }
 ],
 "metadata": {
  "instance_type": "ml.t3.medium",
  "kernelspec": {
   "display_name": "Python 3 (Data Science)",
   "language": "python",
   "name": "python3__SAGEMAKER_INTERNAL__arn:aws:sagemaker:eu-west-1:470317259841:image/datascience-1.0"
  },
  "language_info": {
   "codemirror_mode": {
    "name": "ipython",
    "version": 3
   },
   "file_extension": ".py",
   "mimetype": "text/x-python",
   "name": "python",
   "nbconvert_exporter": "python",
   "pygments_lexer": "ipython3",
   "version": "3.7.10"
  }
 },
 "nbformat": 4,
 "nbformat_minor": 5
}
